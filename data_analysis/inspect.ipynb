{
 "cells": [
  {
   "cell_type": "code",
   "execution_count": 1,
   "metadata": {},
   "outputs": [],
   "source": [
    "import numpy as np\n",
    "import pickle \n",
    "import os"
   ]
  },
  {
   "cell_type": "code",
   "execution_count": 11,
   "metadata": {},
   "outputs": [],
   "source": [
    "def load_data(control,alpha,min_negative_jump,err_thr,mode=None,cores=None):\n",
    "    folder = os.path.join(os.path.dirname(os.getcwd()),'DATI_PARALLELIZED')\n",
    "    files = os.listdir(folder)\n",
    "    for i in files:\n",
    "        if 'Thr'+str(err_thr) in i and control in i and str(alpha) in i \\\n",
    "            and str(min_negative_jump) in i:\n",
    "                if control  == 'parallel_limited':\n",
    "                    if 'cores'+str(cores) in i and mode in i:\n",
    "                        path = os.path.join(folder,i +'/'+i+'.pkl')\n",
    "                        with open(path,'rb') as f:\n",
    "                            data_loaded = pickle.load(f)\n",
    "                        break\n",
    "                else:\n",
    "                    path = os.path.join(folder,i +'/'+i+'.pkl')\n",
    "                    with open(path,'rb') as f:\n",
    "                        data_loaded = pickle.load(f)\n",
    "                    break\n",
    "    return data_loaded"
   ]
  },
  {
   "cell_type": "code",
   "execution_count": 13,
   "metadata": {},
   "outputs": [
    {
     "data": {
      "text/plain": [
       "500"
      ]
     },
     "execution_count": 13,
     "metadata": {},
     "output_type": "execute_result"
    }
   ],
   "source": [
    "# Data content :  k, convergence, x_sim, stats, x_v, u,x_simu,u_simu,jumps,safe_hor_hist,core_sol\n",
    "data_par = load_data('ParallelWithCheck',1e-3,-1,1e-3) \n",
    "\n",
    "len(data_par)"
   ]
  },
  {
   "cell_type": "code",
   "execution_count": 6,
   "metadata": {},
   "outputs": [
    {
     "data": {
      "text/plain": [
       "'/home/utente/Documents/Optim/safe-mpc/data_analysis/DATI_PARALLELIZED'"
      ]
     },
     "execution_count": 6,
     "metadata": {},
     "output_type": "execute_result"
    }
   ],
   "source": [
    "os.path.join(os.getcwd(),'DATI_PARALLELIZED')"
   ]
  }
 ],
 "metadata": {
  "kernelspec": {
   "display_name": "Python 3",
   "language": "python",
   "name": "python3"
  },
  "language_info": {
   "codemirror_mode": {
    "name": "ipython",
    "version": 3
   },
   "file_extension": ".py",
   "mimetype": "text/x-python",
   "name": "python",
   "nbconvert_exporter": "python",
   "pygments_lexer": "ipython3",
   "version": "3.10.12"
  }
 },
 "nbformat": 4,
 "nbformat_minor": 2
}
